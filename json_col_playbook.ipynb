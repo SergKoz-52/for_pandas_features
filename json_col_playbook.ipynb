{
 "cells": [
  {
   "cell_type": "code",
   "execution_count": 2,
   "metadata": {
    "collapsed": true
   },
   "outputs": [],
   "source": [
    "import pandas as pd\n",
    "from json import dumps,loads"
   ]
  },
  {
   "cell_type": "code",
   "execution_count": 8,
   "outputs": [],
   "source": [
    "def add_json_col(\n",
    "        df_src: pd.DataFrame,\n",
    "        key: str,\n",
    "        value: str,\n",
    "        col_value: bool = True,\n",
    "        accum_col: str = 'description') -> pd.DataFrame:\n",
    "\n",
    "    df = df_src.copy()\n",
    "\n",
    "    def process_map_col(_df: pd.DataFrame) -> pd.DataFrame:\n",
    "        for row, col in _df.iterrows():\n",
    "            val_to_dict = loads(_df.loc[row, accum_col])\n",
    "            if col_value:\n",
    "                val = str(_df.loc[row, value])\n",
    "            else:\n",
    "                val = value\n",
    "            val_to_dict.update({key: val})\n",
    "            val_to_dict = dumps(val_to_dict)\n",
    "            _df.loc[row, accum_col] = val_to_dict\n",
    "        return _df\n",
    "\n",
    "    if col_value:\n",
    "        if value in df.columns:\n",
    "            if accum_col not in df.columns:\n",
    "                df[accum_col] = '{' + f'\"{key}\": ' + '\"' + df[value].astype(\n",
    "                    str) + '\"' + '}'\n",
    "            else:\n",
    "                try:\n",
    "                    df = process_map_col(df)\n",
    "                except Exception as err:\n",
    "                    msg = 'Maybe field values are nit in Json ' \\\n",
    "                          'format \"{\"key\": \"val\"}\"'\n",
    "                    print(err)\n",
    "                    raise ValueError(msg)\n",
    "        else:\n",
    "            raise ValueError(f\"column {value} not in df.columns!\")\n",
    "\n",
    "    else:\n",
    "        if accum_col not in df.columns:\n",
    "            df[accum_col] = '{' + f'\"{key}\": ' + '\"' + value + '\"' + '}'\n",
    "        else:\n",
    "            try:\n",
    "                df = process_map_col(df)\n",
    "            except Exception as err:\n",
    "                msg = 'Maybe field values are nit in Json ' \\\n",
    "                      'format \"{\"key\": \"val\"}\"'\n",
    "                print(err)\n",
    "                raise ValueError(msg)\n",
    "\n",
    "    return df"
   ],
   "metadata": {
    "collapsed": false,
    "pycharm": {
     "name": "#%%\n"
    }
   }
  },
  {
   "cell_type": "code",
   "execution_count": 9,
   "outputs": [],
   "source": [
    "df = pd.DataFrame({'A': [1,2,3], 'B': ['w', 'e', 'p'], 'C': ['2023', '2022', '2021']})"
   ],
   "metadata": {
    "collapsed": false,
    "pycharm": {
     "name": "#%%\n"
    }
   }
  },
  {
   "cell_type": "code",
   "execution_count": 21,
   "outputs": [
    {
     "name": "stdout",
     "output_type": "stream",
     "text": [
      "   A  B     C\n",
      "0  1  w  2023\n",
      "1  2  e  2022\n",
      "2  3  p  2021\n"
     ]
    }
   ],
   "source": [
    "print(df)"
   ],
   "metadata": {
    "collapsed": false,
    "pycharm": {
     "name": "#%%\n"
    }
   }
  },
  {
   "cell_type": "code",
   "execution_count": 15,
   "outputs": [],
   "source": [
    "df1 = add_json_col(df, 'a_key', 'A')"
   ],
   "metadata": {
    "collapsed": false,
    "pycharm": {
     "name": "#%%\n"
    }
   }
  },
  {
   "cell_type": "code",
   "execution_count": 22,
   "outputs": [
    {
     "name": "stdout",
     "output_type": "stream",
     "text": [
      "   A  B     C     description\n",
      "0  1  w  2023  {\"a_key\": \"1\"}\n",
      "1  2  e  2022  {\"a_key\": \"2\"}\n",
      "2  3  p  2021  {\"a_key\": \"3\"}\n"
     ]
    }
   ],
   "source": [
    "print(df1)"
   ],
   "metadata": {
    "collapsed": false,
    "pycharm": {
     "name": "#%%\n"
    }
   }
  },
  {
   "cell_type": "code",
   "execution_count": 17,
   "outputs": [],
   "source": [
    "df2 = add_json_col(df, 'example', 'abc', col_value=False)"
   ],
   "metadata": {
    "collapsed": false,
    "pycharm": {
     "name": "#%%\n"
    }
   }
  },
  {
   "cell_type": "code",
   "execution_count": 23,
   "outputs": [
    {
     "name": "stdout",
     "output_type": "stream",
     "text": [
      "   A  B     C         description\n",
      "0  1  w  2023  {\"example\": \"abc\"}\n",
      "1  2  e  2022  {\"example\": \"abc\"}\n",
      "2  3  p  2021  {\"example\": \"abc\"}\n"
     ]
    }
   ],
   "source": [
    "print(df2)"
   ],
   "metadata": {
    "collapsed": false,
    "pycharm": {
     "name": "#%%\n"
    }
   }
  },
  {
   "cell_type": "code",
   "execution_count": 19,
   "outputs": [],
   "source": [
    "df3 = add_json_col(df2, 'B', 'B')"
   ],
   "metadata": {
    "collapsed": false,
    "pycharm": {
     "name": "#%%\n"
    }
   }
  },
  {
   "cell_type": "code",
   "execution_count": 24,
   "outputs": [
    {
     "name": "stdout",
     "output_type": "stream",
     "text": [
      "   A  B     C                   description\n",
      "0  1  w  2023  {\"example\": \"abc\", \"B\": \"w\"}\n",
      "1  2  e  2022  {\"example\": \"abc\", \"B\": \"e\"}\n",
      "2  3  p  2021  {\"example\": \"abc\", \"B\": \"p\"}\n"
     ]
    }
   ],
   "source": [
    "print(df3)"
   ],
   "metadata": {
    "collapsed": false,
    "pycharm": {
     "name": "#%%\n"
    }
   }
  },
  {
   "cell_type": "code",
   "execution_count": 25,
   "outputs": [],
   "source": [
    "df4 = add_json_col(df, 'example', 'test', col_value=False, accum_col='json_val')"
   ],
   "metadata": {
    "collapsed": false,
    "pycharm": {
     "name": "#%%\n"
    }
   }
  },
  {
   "cell_type": "code",
   "execution_count": 27,
   "outputs": [
    {
     "name": "stdout",
     "output_type": "stream",
     "text": [
      "   A  B     C             json_val\n",
      "0  1  w  2023  {\"example\": \"test\"}\n",
      "1  2  e  2022  {\"example\": \"test\"}\n",
      "2  3  p  2021  {\"example\": \"test\"}\n"
     ]
    }
   ],
   "source": [
    "print(df4)"
   ],
   "metadata": {
    "collapsed": false,
    "pycharm": {
     "name": "#%%\n"
    }
   }
  },
  {
   "cell_type": "code",
   "execution_count": null,
   "outputs": [],
   "source": [],
   "metadata": {
    "collapsed": false,
    "pycharm": {
     "name": "#%%\n"
    }
   }
  }
 ],
 "metadata": {
  "kernelspec": {
   "display_name": "Python 3",
   "language": "python",
   "name": "python3"
  },
  "language_info": {
   "codemirror_mode": {
    "name": "ipython",
    "version": 2
   },
   "file_extension": ".py",
   "mimetype": "text/x-python",
   "name": "python",
   "nbconvert_exporter": "python",
   "pygments_lexer": "ipython2",
   "version": "2.7.6"
  }
 },
 "nbformat": 4,
 "nbformat_minor": 0
}